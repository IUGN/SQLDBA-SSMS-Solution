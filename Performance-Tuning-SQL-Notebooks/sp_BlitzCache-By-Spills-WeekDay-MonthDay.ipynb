{
    "metadata": {
        "kernelspec": {
            "name": "SQL",
            "display_name": "SQL",
            "language": "sql"
        },
        "language_info": {
            "name": "sql",
            "version": ""
        }
    },
    "nbformat_minor": 2,
    "nbformat": 4,
    "cells": [
        {
            "cell_type": "markdown",
            "source": [
                "# sp\\_BlitzCache @SortOrder = '<mark>spills</mark>'"
            ],
            "metadata": {
                "language": "sql",
                "azdata_cell_guid": "ff331b83-1d76-4c9f-94ff-3953ef26b229"
            },
            "attachments": {}
        },
        {
            "cell_type": "code",
            "source": [
                "exec sp_BlitzCache @SortOrder = 'spills', @Top = 30, @IgnoreSystemDBs = 0;"
            ],
            "metadata": {
                "language": "sql",
                "azdata_cell_guid": "2d1d5478-5b2a-4afe-93ce-9dcdfbb79c75"
            },
            "outputs": [],
            "execution_count": null
        }
    ]
}