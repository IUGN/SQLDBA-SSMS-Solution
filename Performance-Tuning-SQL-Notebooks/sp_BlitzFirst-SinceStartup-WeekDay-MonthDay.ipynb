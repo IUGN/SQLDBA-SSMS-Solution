{
    "metadata": {
        "kernelspec": {
            "name": "SQL",
            "display_name": "SQL",
            "language": "sql"
        },
        "language_info": {
            "name": "sql",
            "version": ""
        }
    },
    "nbformat_minor": 2,
    "nbformat": 4,
    "cells": [
        {
            "cell_type": "markdown",
            "source": [
                "# sp\\_BlitzFirst @SinceStartup = 1"
            ],
            "metadata": {
                "azdata_cell_guid": "b4dd033d-8362-4324-b2d2-5ea824b93e55"
            },
            "attachments": {}
        },
        {
            "cell_type": "code",
            "source": [
                "exec sp_BlitzFirst @SinceStartup = 1"
            ],
            "metadata": {
                "azdata_cell_guid": "541ee0aa-1e31-4eb3-9a24-a67fa5e03257",
                "language": "sql"
            },
            "outputs": [],
            "execution_count": null
        }
    ]
}