{
    "metadata": {
        "kernelspec": {
            "name": "SQL",
            "display_name": "SQL",
            "language": "sql"
        },
        "language_info": {
            "name": "sql",
            "version": ""
        }
    },
    "nbformat_minor": 2,
    "nbformat": 4,
    "cells": [
        {
            "cell_type": "markdown",
            "source": [
                "# sp\\_BlitzCache @SortOrder = '<mark>CPU</mark>'"
            ],
            "metadata": {
                "language": "sql",
                "azdata_cell_guid": "bdc9b3e5-efaf-4b6d-849a-b13626224a59"
            },
            "attachments": {}
        },
        {
            "cell_type": "code",
            "source": [
                "exec sp_BlitzCache @SortOrder = 'CPU', @Top = 30, @IgnoreSystemDBs = 0;"
            ],
            "metadata": {
                "language": "sql",
                "azdata_cell_guid": "084b8a59-7924-449a-8158-6767fc4253d5"
            },
            "outputs": [],
            "execution_count": null
        }
    ]
}