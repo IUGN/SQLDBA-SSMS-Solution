{
    "metadata": {
        "kernelspec": {
            "name": "SQL",
            "display_name": "SQL",
            "language": "sql"
        },
        "language_info": {
            "name": "sql",
            "version": ""
        }
    },
    "nbformat_minor": 2,
    "nbformat": 4,
    "cells": [
        {
            "cell_type": "markdown",
            "source": [
                "# sp\\_BlitzFirst"
            ],
            "metadata": {
                "azdata_cell_guid": "fc2dc16e-2242-4dd0-a37c-3e8822ffa19c"
            },
            "attachments": {}
        },
        {
            "cell_type": "code",
            "source": [
                "exec sp_BlitzFirst"
            ],
            "metadata": {
                "azdata_cell_guid": "df407178-2f3b-4e67-b87d-6ca37a648008",
                "language": "sql"
            },
            "outputs": [],
            "execution_count": null
        }
    ]
}