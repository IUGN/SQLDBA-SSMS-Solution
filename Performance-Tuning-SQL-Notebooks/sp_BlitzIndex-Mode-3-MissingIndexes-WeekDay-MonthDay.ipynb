{
    "metadata": {
        "kernelspec": {
            "name": "SQL",
            "display_name": "SQL",
            "language": "sql"
        },
        "language_info": {
            "name": "sql",
            "version": ""
        }
    },
    "nbformat_minor": 2,
    "nbformat": 4,
    "cells": [
        {
            "cell_type": "markdown",
            "source": [
                "# sp\\_BlitzIndex @Mode = 3 <mark>Missing Indexes</mark>\n",
                "\n",
                "## <mark>An inventory of indexes SQL Server is suggesting. Also great for copy/pasting into Excel for later analysis.</mark>"
            ],
            "metadata": {
                "azdata_cell_guid": "f4d9ec5c-2a56-4eb2-b349-fd7684803149"
            },
            "attachments": {}
        },
        {
            "cell_type": "code",
            "source": [
                "exec sp_BlitzIndex @Mode = 3, @GetAllDatabases = 1, @BringThePain = 1;"
            ],
            "metadata": {
                "azdata_cell_guid": "3bae30d8-11a1-4291-bdca-56d8e3587bcd",
                "language": "sql"
            },
            "outputs": [],
            "execution_count": null
        }
    ]
}