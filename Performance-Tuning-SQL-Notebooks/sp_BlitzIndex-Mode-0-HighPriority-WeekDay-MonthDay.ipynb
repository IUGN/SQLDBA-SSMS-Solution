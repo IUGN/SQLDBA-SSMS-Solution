{
    "metadata": {
        "kernelspec": {
            "name": "SQL",
            "display_name": "SQL",
            "language": "sql"
        },
        "language_info": {
            "name": "sql",
            "version": ""
        }
    },
    "nbformat_minor": 2,
    "nbformat": 4,
    "cells": [
        {
            "cell_type": "markdown",
            "source": [
                "# sp\\_BlitzIndex @Mode = 0 <mark>High Priority Advice</mark>\n",
                "\n",
                "## <mark>Returns high-priority (1-100) advice on the most urgent index issues.</mark>"
            ],
            "metadata": {
                "azdata_cell_guid": "f4d9ec5c-2a56-4eb2-b349-fd7684803149"
            },
            "attachments": {}
        },
        {
            "cell_type": "code",
            "source": [
                "exec sp_BlitzIndex @Mode = 0, @GetAllDatabases = 1, @BringThePain = 1;"
            ],
            "metadata": {
                "azdata_cell_guid": "3bae30d8-11a1-4291-bdca-56d8e3587bcd",
                "language": "sql"
            },
            "outputs": [],
            "execution_count": null
        }
    ]
}