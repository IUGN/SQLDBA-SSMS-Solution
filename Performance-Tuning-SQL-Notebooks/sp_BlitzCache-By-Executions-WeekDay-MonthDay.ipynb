{
    "metadata": {
        "kernelspec": {
            "name": "SQL",
            "display_name": "SQL",
            "language": "sql"
        },
        "language_info": {
            "name": "sql",
            "version": ""
        }
    },
    "nbformat_minor": 2,
    "nbformat": 4,
    "cells": [
        {
            "cell_type": "markdown",
            "source": [
                "# sp\\_BlitzCache @SortOrder = '<mark>xpm</mark>'"
            ],
            "metadata": {
                "azdata_cell_guid": "da16ad71-232a-4c3b-918f-d2aa075bf0dd"
            },
            "attachments": {}
        },
        {
            "cell_type": "code",
            "source": [
                "exec sp_BlitzCache @SortOrder = 'xpm', @Top = 30, @IgnoreSystemDBs = 0;"
            ],
            "metadata": {
                "azdata_cell_guid": "e17a089a-4796-4b60-ba43-15f149b24ed0",
                "language": "sql"
            },
            "outputs": [],
            "execution_count": null
        }
    ]
}