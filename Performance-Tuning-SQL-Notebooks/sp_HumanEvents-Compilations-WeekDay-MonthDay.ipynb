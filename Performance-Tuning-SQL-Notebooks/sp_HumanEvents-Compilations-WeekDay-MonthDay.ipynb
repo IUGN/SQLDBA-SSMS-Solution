{
    "metadata": {
        "kernelspec": {
            "name": "SQL",
            "display_name": "SQL",
            "language": "sql"
        },
        "language_info": {
            "name": "sql",
            "version": ""
        }
    },
    "nbformat_minor": 2,
    "nbformat": 4,
    "cells": [
        {
            "cell_type": "markdown",
            "source": [
                "# Compilations"
            ],
            "metadata": {
                "azdata_cell_guid": "16663664-0183-4d78-b3a9-a00b6799d523"
            },
            "attachments": {}
        },
        {
            "cell_type": "code",
            "source": [
                "-- Get compilations\r\n",
                "exec dbo.sp_HumanEvents @event_type = 'compilations', @seconds_sample = 600;"
            ],
            "metadata": {
                "azdata_cell_guid": "144d7163-b7df-4efe-af99-8401615b294e",
                "language": "sql"
            },
            "outputs": [],
            "execution_count": null
        }
    ]
}