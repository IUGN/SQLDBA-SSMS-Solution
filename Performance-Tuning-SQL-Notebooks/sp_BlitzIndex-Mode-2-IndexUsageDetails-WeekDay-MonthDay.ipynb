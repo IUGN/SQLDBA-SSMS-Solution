{
    "metadata": {
        "kernelspec": {
            "name": "SQL",
            "display_name": "SQL",
            "language": "sql"
        },
        "language_info": {
            "name": "sql",
            "version": ""
        }
    },
    "nbformat_minor": 2,
    "nbformat": 4,
    "cells": [
        {
            "cell_type": "markdown",
            "source": [
                "# sp\\_BlitzIndex @Mode = 2   <mark>Index Usage Details</mark> \n",
                "\n",
                "##  <mark>An inventory of existing indexes & their usage statistics. Great for copy/pasting into Excel to do slice & dice analysis.</mark>"
            ],
            "metadata": {
                "language": "sql",
                "azdata_cell_guid": "d6efb9a0-f712-4be0-8e76-20fd1b1f926e"
            },
            "attachments": {}
        },
        {
            "cell_type": "code",
            "source": [
                "exec sp_BlitzIndex @Mode = 2, @GetAllDatabases = 1, @BringThePain = 1;"
            ],
            "metadata": {
                "language": "sql",
                "azdata_cell_guid": "4f158ee5-e3fa-493d-a77e-4f72d70363fb"
            },
            "outputs": [],
            "execution_count": null
        }
    ]
}