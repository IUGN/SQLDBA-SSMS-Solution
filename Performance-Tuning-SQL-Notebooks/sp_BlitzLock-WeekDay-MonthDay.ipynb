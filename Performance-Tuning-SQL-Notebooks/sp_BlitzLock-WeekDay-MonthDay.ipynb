{
    "metadata": {
        "kernelspec": {
            "name": "SQL",
            "display_name": "SQL",
            "language": "sql"
        },
        "language_info": {
            "name": "sql",
            "version": ""
        }
    },
    "nbformat_minor": 2,
    "nbformat": 4,
    "cells": [
        {
            "cell_type": "markdown",
            "source": [
                "# BlitzLock"
            ],
            "metadata": {
                "azdata_cell_guid": "be0ae9a8-377f-4b56-95d5-ed68499b0d38"
            },
            "attachments": {}
        },
        {
            "cell_type": "code",
            "source": [
                "exec sp_BlitzLock"
            ],
            "metadata": {
                "azdata_cell_guid": "6f2b5c12-0bfe-44a2-ad52-822eb5f15d0b",
                "language": "sql"
            },
            "outputs": [],
            "execution_count": null
        }
    ]
}