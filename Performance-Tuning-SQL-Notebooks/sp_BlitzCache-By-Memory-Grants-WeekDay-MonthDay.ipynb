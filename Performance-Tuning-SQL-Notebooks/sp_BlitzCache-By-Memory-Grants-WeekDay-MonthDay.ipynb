{
    "metadata": {
        "kernelspec": {
            "name": "SQL",
            "display_name": "SQL",
            "language": "sql"
        },
        "language_info": {
            "name": "sql",
            "version": ""
        }
    },
    "nbformat_minor": 2,
    "nbformat": 4,
    "cells": [
        {
            "cell_type": "markdown",
            "source": [
                "# sp\\_BlitzCache @SortOrder = '<mark>memory grant</mark>'"
            ],
            "metadata": {
                "azdata_cell_guid": "43208f52-4da2-4f07-b799-ce60324b3f7c"
            },
            "attachments": {}
        },
        {
            "cell_type": "code",
            "source": [
                "exec sp_BlitzCache @SortOrder = 'memory grant', @Top = 30, @IgnoreSystemDBs = 0;"
            ],
            "metadata": {
                "azdata_cell_guid": "9f455304-ca1b-49aa-9bf2-ff43a035f76c",
                "language": "sql"
            },
            "outputs": [],
            "execution_count": null
        }
    ]
}