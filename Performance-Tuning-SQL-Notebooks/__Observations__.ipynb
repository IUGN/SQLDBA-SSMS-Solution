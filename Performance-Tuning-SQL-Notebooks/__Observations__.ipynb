{
    "metadata": {
        "kernelspec": {
            "name": "SQL",
            "display_name": "SQL",
            "language": "sql"
        },
        "language_info": {
            "name": "sql",
            "version": ""
        }
    },
    "nbformat_minor": 2,
    "nbformat": 4,
    "cells": [
        {
            "cell_type": "markdown",
            "source": [
                "# \\[SqlPractice\\] - Performance Optimization"
            ],
            "metadata": {
                "azdata_cell_guid": "7c7d6175-0ea3-4f60-9b05-dca55434ec61"
            },
            "attachments": {}
        },
        {
            "cell_type": "markdown",
            "source": [
                "# sp\\_Blitz Analysis\n",
                "\n",
                "1. Informational - Databases \\[ACCOUNT\\], \\[Facebook\\], \\[MTFTRADE\\] are part of replication\n",
                "2. Performance - Triggers on Tables of user databases.\n",
                "3. File Configuration - File growth set to percent. Change data file growth to 500 mb & log file growth to 4000 MB for large dbs, 500 MB for small dbs.\n",
                "4. Performance - High VLF count for \\[ACCOUNT\\] database\n",
                "5. Reliability - Multiple Log Files on One Drive for \\[ACCOUNT\\], \\[INHOUSE\\], \\[Facebook\\]\n",
                "6. Performance - \\[Tempdb\\] Unevenly Sized Data Files\n",
                "7. Reliabilty - Priority Boost Enabled. [https://www.brentozar.com/go/priorityboost/](https://www.brentozar.com/go/priorityboost/)\n",
                "8. Performance - Poison Wait Detected: RESOURCE\\_SEMAPHORE\n",
                "9. Performance - Poison Wait Detected: THREADPOOL\n",
                "10. Performance - Recovery Interval Not Optimal for all databases. [https://sqlperformance.com/2020/05/system-configuration/0-to-60-switching-to-indirect-checkpoints](https://sqlperformance.com/2020/05/system-configuration/0-to-60-switching-to-indirect-checkpoints)\n",
                "11. Reliability - Page Verification Not Optimal for many databases\n",
                "12. Reliability - Transaction Log Larger than Data File\n",
                "13. Performance - High Number of Cached Plans. Leading to HIGH CPU usage on server.\n",
                "14. Performance - Indexes Disabled on databases\n",
                "15. Performance - Many Plans for One Query\n",
                "16. Performance - Memory Pressure Affecting Queries. 8584 forced grants reported in the DMV sys.dm\\_exec\\_query\\_resource\\_semaphores, indicating memory pressure has affected query runtimes.\n",
                "17. Performance - Stored Procedure WITH RECOMPILE.\n",
                "18. Reliability - Cumulative Update Available.\n",
                "19. Performance - Auto-Update Stats Disabled\n",
                "20. Performance - Poor Indexing. Especially Over Indexes\n",
                "21. Performance - Objects created with dangerous SET Options. \n",
                "22. Performance - Queries Forcing Join Hints\n",
                "23. Monitoring - No Alerts for Corruption. No Alerts for Sev 19-25\n",
                "24. Performance - Shrink Database Job\n",
                "25. Performance - LEGACY\\_CARDINALITY\\_ESTIMATION is in use.\n",
                "26. Server need [D.E.A.T.H method analysis of INDEXING](https://www.brentozar.com/archive/2018/10/index-tuning-week-my-d-e-a-t-h-method-for-tuning-indexes/). It is showing all kinds of Index problems. Epecially Over-Indexing."
            ],
            "metadata": {
                "azdata_cell_guid": "498c5099-9f93-4aeb-899f-fa87a30c41ab"
            },
            "attachments": {}
        }
    ]
}