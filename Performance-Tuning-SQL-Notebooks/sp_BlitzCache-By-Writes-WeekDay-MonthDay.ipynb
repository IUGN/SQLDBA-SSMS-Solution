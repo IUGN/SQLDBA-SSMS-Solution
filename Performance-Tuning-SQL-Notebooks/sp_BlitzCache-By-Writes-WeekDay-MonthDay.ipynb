{
    "metadata": {
        "kernelspec": {
            "name": "SQL",
            "display_name": "SQL",
            "language": "sql"
        },
        "language_info": {
            "name": "sql",
            "version": ""
        }
    },
    "nbformat_minor": 2,
    "nbformat": 4,
    "cells": [
        {
            "cell_type": "markdown",
            "source": [
                "# sp\\_BlitzCache @SortOrder = '<mark>writes</mark>'"
            ],
            "metadata": {
                "language": "sql",
                "azdata_cell_guid": "080163ad-e310-497d-9a04-70bc36741d69"
            },
            "attachments": {}
        },
        {
            "cell_type": "code",
            "source": [
                "exec sp_BlitzCache @SortOrder = 'writes', @Top = 30, @IgnoreSystemDBs = 0;"
            ],
            "metadata": {
                "language": "sql",
                "azdata_cell_guid": "8afcb14d-bdf3-4d42-8be3-71f9a71f111d"
            },
            "outputs": [],
            "execution_count": null
        }
    ]
}